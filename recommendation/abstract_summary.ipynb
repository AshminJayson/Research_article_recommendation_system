{
 "cells": [
  {
   "cell_type": "code",
   "execution_count": 20,
   "metadata": {},
   "outputs": [],
   "source": [
    "import nltk\n",
    "import numpy as np\n",
    "from sklearn.feature_extraction.text import CountVectorizer\n",
    "from sklearn.metrics.pairwise import cosine_similarity\n",
    "import networkx as nx\n",
    "# from networkx.algorithms.link_analysis.pagerank_alg import pagerank_numpy\n"
   ]
  },
  {
   "cell_type": "code",
   "execution_count": 21,
   "metadata": {},
   "outputs": [
    {
     "name": "stderr",
     "output_type": "stream",
     "text": [
      "[nltk_data] Downloading package punkt to\n",
      "[nltk_data]     C:\\Users\\Dell\\AppData\\Roaming\\nltk_data...\n",
      "[nltk_data]   Package punkt is already up-to-date!\n"
     ]
    },
    {
     "data": {
      "text/plain": [
       "True"
      ]
     },
     "execution_count": 21,
     "metadata": {},
     "output_type": "execute_result"
    }
   ],
   "source": [
    "nltk.download(\"punkt\")"
   ]
  },
  {
   "cell_type": "code",
   "execution_count": 22,
   "metadata": {},
   "outputs": [],
   "source": [
    "text = \"\"\"\n",
    "Statistical modeling of experimental physical laws is based on the\n",
    "probability density function of measured variables. It is expressed by experimental \n",
    "data via a kernel estimator. The kernel is determined objectively\n",
    "by the scattering of data during calibration of experimental setup. A physical\n",
    "law, which relates measured variables, is optimally extracted from experimental\n",
    "data by the conditional average estimator. It is derived directly from the\n",
    "kernel estimator and corresponds to a general nonparametric regression. The\n",
    "proposed method is demonstrated by the modeling of a return map of noisy\n",
    "chaotic data. In this example, the nonparametric regression is used to predict\n",
    "a future value of chaotic time series from the present one. The mean predictor\n",
    "error is used in the definition of predictor quality, while the redundancy is\n",
    "expressed by the mean square distance between data points. Both statistics are\n",
    "used in a new definition of predictor cost function. From the minimum of the\n",
    "predictor cost function, a proper number of data in the model is estimated.\n",
    "\"\"\"\n"
   ]
  },
  {
   "cell_type": "code",
   "execution_count": 24,
   "metadata": {},
   "outputs": [],
   "source": [
    "sentences = nltk.sent_tokenize(text)"
   ]
  },
  {
   "cell_type": "code",
   "execution_count": 25,
   "metadata": {},
   "outputs": [
    {
     "data": {
      "text/plain": [
       "<10x64 sparse matrix of type '<class 'numpy.int64'>'\n",
       "\twith 92 stored elements in Compressed Sparse Row format>"
      ]
     },
     "execution_count": 25,
     "metadata": {},
     "output_type": "execute_result"
    }
   ],
   "source": [
    "vectorizer = CountVectorizer(stop_words=\"english\")\n",
    "sentence_vectors = vectorizer.fit_transform(sentences)\n",
    "sentence_vectors"
   ]
  },
  {
   "cell_type": "code",
   "execution_count": 26,
   "metadata": {},
   "outputs": [],
   "source": [
    "similarity_matrix = cosine_similarity(sentence_vectors)\n"
   ]
  },
  {
   "cell_type": "code",
   "execution_count": 27,
   "metadata": {},
   "outputs": [
    {
     "data": {
      "text/plain": [
       "<networkx.classes.graph.Graph at 0x2a04d535750>"
      ]
     },
     "execution_count": 27,
     "metadata": {},
     "output_type": "execute_result"
    }
   ],
   "source": [
    "graph = nx.from_numpy_array(similarity_matrix)\n",
    "graph"
   ]
  },
  {
   "cell_type": "code",
   "execution_count": 28,
   "metadata": {},
   "outputs": [],
   "source": [
    "scores = nx.pagerank(graph)\n"
   ]
  },
  {
   "cell_type": "code",
   "execution_count": 29,
   "metadata": {},
   "outputs": [],
   "source": [
    "num_sentences = 3\n",
    "top_sentence_indices = sorted(range(len(scores)), key=lambda i: scores[i], reverse=True)[:num_sentences]\n"
   ]
  },
  {
   "cell_type": "code",
   "execution_count": 40,
   "metadata": {},
   "outputs": [
    {
     "name": "stdout",
     "output_type": "stream",
     "text": [
      "original text:\n",
      " \n",
      "Statistical modeling of experimental physical laws is based on the\n",
      "probability density function of measured variables. It is expressed by experimental \n",
      "data via a kernel estimator. The kernel is determined objectively\n",
      "by the scattering of data during calibration of experimental setup. A physical\n",
      "law, which relates measured variables, is optimally extracted from experimental\n",
      "data by the conditional average estimator. It is derived directly from the\n",
      "kernel estimator and corresponds to a general nonparametric regression. The\n",
      "proposed method is demonstrated by the modeling of a return map of noisy\n",
      "chaotic data. In this example, the nonparametric regression is used to predict\n",
      "a future value of chaotic time series from the present one. The mean predictor\n",
      "error is used in the definition of predictor quality, while the redundancy is\n",
      "expressed by the mean square distance between data points. Both statistics are\n",
      "used in a new definition of predictor cost function. From the minimum of the\n",
      "predictor cost function, a proper number of data in the model is estimated.\n",
      "\n",
      "Summary:\n",
      "\n",
      "It is expressed by experimental \n",
      "data via a kernel estimator.\n",
      "A physical\n",
      "law, which relates measured variables, is optimally extracted from experimental\n",
      "data by the conditional average estimator.\n",
      "The kernel is determined objectively\n",
      "by the scattering of data during calibration of experimental setup.\n"
     ]
    }
   ],
   "source": [
    "summary = [sentences[i] for i in top_sentence_indices]\n",
    "print(\"original text:\\n\", text)\n",
    "print(\"Summary:\\n\")\n",
    "print(\"\\n\".join(summary))"
   ]
  }
 ],
 "metadata": {
  "kernelspec": {
   "display_name": "Python 3",
   "language": "python",
   "name": "python3"
  },
  "language_info": {
   "codemirror_mode": {
    "name": "ipython",
    "version": 3
   },
   "file_extension": ".py",
   "mimetype": "text/x-python",
   "name": "python",
   "nbconvert_exporter": "python",
   "pygments_lexer": "ipython3",
   "version": "3.11.1"
  },
  "orig_nbformat": 4
 },
 "nbformat": 4,
 "nbformat_minor": 2
}
