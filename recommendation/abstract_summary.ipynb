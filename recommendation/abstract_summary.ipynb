{
 "cells": [
  {
   "cell_type": "code",
   "execution_count": 11,
   "metadata": {},
   "outputs": [],
   "source": [
    "# import nltk\n",
    "from nltk.tokenize import sent_tokenize\n",
    "import numpy as np\n",
    "# from sklearn.feature_extraction.text import CountVectorizer\n",
    "from sklearn.feature_extraction.text import TfidfVectorizer\n",
    "from sklearn.metrics.pairwise import cosine_similarity\n",
    "import networkx as nx\n",
    "# from networkx.algorithms.link_analysis.pagerank_alg import pagerank_numpy\n"
   ]
  },
  {
   "cell_type": "code",
   "execution_count": 12,
   "metadata": {},
   "outputs": [],
   "source": [
    "# nltk.download(\"punkt\")"
   ]
  },
  {
   "cell_type": "code",
   "execution_count": 13,
   "metadata": {},
   "outputs": [],
   "source": [
    "text = \"\"\"\n",
    "We discussed quantum deformations of D=4 Lorentz and Poincare algebras. In\n",
    "the case of Poincare algebra it is shown that almost all classical r-matrices\n",
    "of S. Zakrzewski classification correspond to twisted deformations of Abelian\n",
    "and Jordanian types. A part of twists corresponding to the r-matrices of\n",
    "Zakrzewski classification are given in explicit form.\n",
    "\"\"\"\n"
   ]
  },
  {
   "cell_type": "code",
   "execution_count": 14,
   "metadata": {},
   "outputs": [],
   "source": [
    "sentences = sent_tokenize(text)"
   ]
  },
  {
   "cell_type": "code",
   "execution_count": 15,
   "metadata": {},
   "outputs": [
    {
     "data": {
      "text/plain": [
       "<3x36 sparse matrix of type '<class 'numpy.float64'>'\n",
       "\twith 47 stored elements in Compressed Sparse Row format>"
      ]
     },
     "execution_count": 15,
     "metadata": {},
     "output_type": "execute_result"
    }
   ],
   "source": [
    "vectorizer = TfidfVectorizer()\n",
    "sentence_vectors = vectorizer.fit_transform(sentences)\n",
    "sentence_vectors"
   ]
  },
  {
   "cell_type": "code",
   "execution_count": 16,
   "metadata": {},
   "outputs": [],
   "source": [
    "similarity_matrix = cosine_similarity(sentence_vectors)\n"
   ]
  },
  {
   "cell_type": "code",
   "execution_count": 17,
   "metadata": {},
   "outputs": [
    {
     "data": {
      "text/plain": [
       "<networkx.classes.graph.Graph at 0x1a36808f6d0>"
      ]
     },
     "execution_count": 17,
     "metadata": {},
     "output_type": "execute_result"
    }
   ],
   "source": [
    "graph = nx.from_numpy_array(similarity_matrix)\n",
    "graph"
   ]
  },
  {
   "cell_type": "code",
   "execution_count": 18,
   "metadata": {},
   "outputs": [],
   "source": [
    "scores = nx.pagerank(graph)\n"
   ]
  },
  {
   "cell_type": "code",
   "execution_count": 19,
   "metadata": {},
   "outputs": [],
   "source": [
    "num_sentences = 3\n",
    "# top_sentence_indices = sorted(range(len(scores)), key=lambda i: scores[i], reverse=True)[:num_sentences]\n",
    "ranked_sentences = sorted(((scores[i], s) for i, s in enumerate(sentences)), reverse=True)"
   ]
  },
  {
   "cell_type": "code",
   "execution_count": 21,
   "metadata": {},
   "outputs": [
    {
     "name": "stdout",
     "output_type": "stream",
     "text": [
      "original text:\n",
      " \n",
      "We discussed quantum deformations of D=4 Lorentz and Poincare algebras. In\n",
      "the case of Poincare algebra it is shown that almost all classical r-matrices\n",
      "of S. Zakrzewski classification correspond to twisted deformations of Abelian\n",
      "and Jordanian types. A part of twists corresponding to the r-matrices of\n",
      "Zakrzewski classification are given in explicit form.\n",
      "\n",
      "Summary:\n",
      "\n",
      "In\n",
      "the case of Poincare algebra it is shown that almost all classical r-matrices\n",
      "of S. Zakrzewski classification correspond to twisted deformations of Abelian\n",
      "and Jordanian types. A part of twists corresponding to the r-matrices of\n",
      "Zakrzewski classification are given in explicit form. \n",
      "We discussed quantum deformations of D=4 Lorentz and Poincare algebras.\n"
     ]
    }
   ],
   "source": [
    "summary_sentences = [sentence for _, sentence in ranked_sentences[:num_sentences]]\n",
    "print(\"original text:\\n\", text)\n",
    "print(\"Summary:\\n\")\n",
    "print(' '.join(summary_sentences))"
   ]
  }
 ],
 "metadata": {
  "kernelspec": {
   "display_name": "Python 3",
   "language": "python",
   "name": "python3"
  },
  "language_info": {
   "codemirror_mode": {
    "name": "ipython",
    "version": 3
   },
   "file_extension": ".py",
   "mimetype": "text/x-python",
   "name": "python",
   "nbconvert_exporter": "python",
   "pygments_lexer": "ipython3",
   "version": "3.11.1"
  },
  "orig_nbformat": 4
 },
 "nbformat": 4,
 "nbformat_minor": 2
}
