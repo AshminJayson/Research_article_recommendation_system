{
 "cells": [
  {
   "cell_type": "code",
   "execution_count": 1,
   "metadata": {},
   "outputs": [],
   "source": [
    "# import nltk\n",
    "from nltk.tokenize import sent_tokenize\n",
    "import numpy as np\n",
    "# from sklearn.feature_extraction.text import CountVectorizer\n",
    "from sklearn.feature_extraction.text import TfidfVectorizer\n",
    "from sklearn.metrics.pairwise import cosine_similarity\n",
    "import networkx as nx\n",
    "# from networkx.algorithms.link_analysis.pagerank_alg import pagerank_numpy\n"
   ]
  },
  {
   "cell_type": "code",
   "execution_count": 2,
   "metadata": {},
   "outputs": [],
   "source": [
    "# nltk.download(\"punkt\")"
   ]
  },
  {
   "cell_type": "code",
   "execution_count": 3,
   "metadata": {},
   "outputs": [],
   "source": [
    "text = \"\"\"\n",
    "  We investigate dynamical properties of bright solitons with a finite\n",
    "background in the F=1 spinor Bose-Einstein condensate (BEC), based on an\n",
    "integrable spinor model which is equivalent to the matrix nonlinear\n",
    "Schr\\\"\"{o}dinger equation with a self-focusing nonlineality. We apply the\n",
    "inverse scattering method formulated for nonvanishing boundary conditions. The\n",
    "resulting soliton solutions can be regarded as a generalization of those under\n",
    "vanishing boundary conditions. One-soliton solutions are derived in an explicit\n",
    "manner. According to the behaviors at the infinity, they are classified into\n",
    "two kinds, domain-wall (DW) type and phase-shift (PS) type. The DW-type implies\n",
    "the ferromagnetic state with nonzero total spin and the PS-type implies the\n",
    "polar state, where the total spin amounts to zero. We also discuss two-soliton\n",
    "collisions. In particular, the spin-mixing phenomenon is confirmed in a\n",
    "collision involving the DW-type. The results are consistent with those of the\n",
    "previous studies for bright solitons under vanishing boundary conditions and\n",
    "dark solitons. As a result, we establish the robustness and the usefulness of\n",
    "the multiple matter-wave solitons in the spinor BECs.\n",
    "\"\"\"\n"
   ]
  },
  {
   "cell_type": "code",
   "execution_count": 4,
   "metadata": {},
   "outputs": [],
   "source": [
    "sentences = sent_tokenize(text)"
   ]
  },
  {
   "cell_type": "code",
   "execution_count": 5,
   "metadata": {},
   "outputs": [
    {
     "data": {
      "text/plain": [
       "<10x108 sparse matrix of type '<class 'numpy.float64'>'\n",
       "\twith 158 stored elements in Compressed Sparse Row format>"
      ]
     },
     "execution_count": 5,
     "metadata": {},
     "output_type": "execute_result"
    }
   ],
   "source": [
    "vectorizer = TfidfVectorizer()\n",
    "sentence_vectors = vectorizer.fit_transform(sentences)\n",
    "sentence_vectors"
   ]
  },
  {
   "cell_type": "code",
   "execution_count": 6,
   "metadata": {},
   "outputs": [],
   "source": [
    "similarity_matrix = cosine_similarity(sentence_vectors)\n"
   ]
  },
  {
   "cell_type": "code",
   "execution_count": 7,
   "metadata": {},
   "outputs": [
    {
     "data": {
      "text/plain": [
       "<networkx.classes.graph.Graph at 0x2e6f9898d50>"
      ]
     },
     "execution_count": 7,
     "metadata": {},
     "output_type": "execute_result"
    }
   ],
   "source": [
    "graph = nx.from_numpy_array(similarity_matrix)\n",
    "graph"
   ]
  },
  {
   "cell_type": "code",
   "execution_count": 8,
   "metadata": {},
   "outputs": [],
   "source": [
    "scores = nx.pagerank(graph)\n"
   ]
  },
  {
   "cell_type": "code",
   "execution_count": 9,
   "metadata": {},
   "outputs": [],
   "source": [
    "num_sentences = 3\n",
    "# top_sentence_indices = sorted(range(len(scores)), key=lambda i: scores[i], reverse=True)[:num_sentences]\n",
    "ranked_sentences = sorted(((scores[i], s) for i, s in enumerate(sentences)), reverse=True)"
   ]
  },
  {
   "cell_type": "code",
   "execution_count": 10,
   "metadata": {},
   "outputs": [
    {
     "name": "stdout",
     "output_type": "stream",
     "text": [
      "original text:\n",
      " \n",
      "  We investigate dynamical properties of bright solitons with a finite\n",
      "background in the F=1 spinor Bose-Einstein condensate (BEC), based on an\n",
      "integrable spinor model which is equivalent to the matrix nonlinear\n",
      "Schr\"\"{o}dinger equation with a self-focusing nonlineality. We apply the\n",
      "inverse scattering method formulated for nonvanishing boundary conditions. The\n",
      "resulting soliton solutions can be regarded as a generalization of those under\n",
      "vanishing boundary conditions. One-soliton solutions are derived in an explicit\n",
      "manner. According to the behaviors at the infinity, they are classified into\n",
      "two kinds, domain-wall (DW) type and phase-shift (PS) type. The DW-type implies\n",
      "the ferromagnetic state with nonzero total spin and the PS-type implies the\n",
      "polar state, where the total spin amounts to zero. We also discuss two-soliton\n",
      "collisions. In particular, the spin-mixing phenomenon is confirmed in a\n",
      "collision involving the DW-type. The results are consistent with those of the\n",
      "previous studies for bright solitons under vanishing boundary conditions and\n",
      "dark solitons. As a result, we establish the robustness and the usefulness of\n",
      "the multiple matter-wave solitons in the spinor BECs.\n",
      "\n",
      "Summary:\n",
      "\n",
      "As a result, we establish the robustness and the usefulness of\n",
      "the multiple matter-wave solitons in the spinor BECs. The results are consistent with those of the\n",
      "previous studies for bright solitons under vanishing boundary conditions and\n",
      "dark solitons. The DW-type implies\n",
      "the ferromagnetic state with nonzero total spin and the PS-type implies the\n",
      "polar state, where the total spin amounts to zero.\n"
     ]
    }
   ],
   "source": [
    "summary_sentences = [sentence for _, sentence in ranked_sentences[:num_sentences]]\n",
    "print(\"original text:\\n\", text)\n",
    "print(\"Summary:\\n\")\n",
    "print(' '.join(summary_sentences))"
   ]
  }
 ],
 "metadata": {
  "kernelspec": {
   "display_name": "Python 3",
   "language": "python",
   "name": "python3"
  },
  "language_info": {
   "codemirror_mode": {
    "name": "ipython",
    "version": 3
   },
   "file_extension": ".py",
   "mimetype": "text/x-python",
   "name": "python",
   "nbconvert_exporter": "python",
   "pygments_lexer": "ipython3",
   "version": "3.11.1"
  },
  "orig_nbformat": 4
 },
 "nbformat": 4,
 "nbformat_minor": 2
}
