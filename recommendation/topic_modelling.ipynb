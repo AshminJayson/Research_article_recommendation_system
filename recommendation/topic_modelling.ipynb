{
 "cells": [
  {
   "cell_type": "code",
   "execution_count": 2,
   "metadata": {},
   "outputs": [],
   "source": [
    "from gensim.models import HdpModel, LdaModel\n",
    "from gensim.corpora import Dictionary"
   ]
  },
  {
   "cell_type": "code",
   "execution_count": 3,
   "metadata": {},
   "outputs": [],
   "source": [
    "paragraph = \"I love to travel and explore new places. My favorite destinations are the beach and the mountains. I enjoy the sound of ocean waves and the fresh air in the mountains. Traveling allows me to experience different cultures, try new foods, and meet interesting people.\""
   ]
  },
  {
   "cell_type": "code",
   "execution_count": 4,
   "metadata": {},
   "outputs": [],
   "source": [
    "tokenized_paragraph = paragraph.lower().split()"
   ]
  },
  {
   "cell_type": "code",
   "execution_count": 5,
   "metadata": {},
   "outputs": [],
   "source": [
    "dictionary = Dictionary([tokenized_paragraph])"
   ]
  },
  {
   "cell_type": "code",
   "execution_count": 6,
   "metadata": {},
   "outputs": [],
   "source": [
    "bow_corpus = [dictionary.doc2bow(tokenized_paragraph)]"
   ]
  },
  {
   "cell_type": "code",
   "execution_count": 7,
   "metadata": {},
   "outputs": [],
   "source": [
    "hdp_model = HdpModel(corpus=bow_corpus, id2word=dictionary)\n",
    "hdp_topics = hdp_model.show_topics()"
   ]
  },
  {
   "cell_type": "code",
   "execution_count": 8,
   "metadata": {},
   "outputs": [],
   "source": [
    "lda_model = LdaModel(corpus=bow_corpus, id2word=dictionary, num_topics=5)\n",
    "lda_topics = lda_model.show_topics()"
   ]
  },
  {
   "cell_type": "code",
   "execution_count": 9,
   "metadata": {},
   "outputs": [],
   "source": [
    "def convert_to_sentence(topic):\n",
    "    topic_words = [word for word, _ in topic]\n",
    "    return ', '.join(topic_words)"
   ]
  },
  {
   "cell_type": "code",
   "execution_count": 17,
   "metadata": {},
   "outputs": [
    {
     "name": "stdout",
     "output_type": "stream",
     "text": [
      "HDP Topics:\n"
     ]
    },
    {
     "ename": "ValueError",
     "evalue": "not enough values to unpack (expected 2, got 1)",
     "output_type": "error",
     "traceback": [
      "\u001b[1;31m---------------------------------------------------------------------------\u001b[0m",
      "\u001b[1;31mValueError\u001b[0m                                Traceback (most recent call last)",
      "Cell \u001b[1;32mIn[17], line 4\u001b[0m\n\u001b[0;32m      2\u001b[0m \u001b[39mfor\u001b[39;00m topic \u001b[39min\u001b[39;00m hdp_topics:\n\u001b[0;32m      3\u001b[0m     topic_words \u001b[39m=\u001b[39m topic[\u001b[39m1\u001b[39m]\n\u001b[1;32m----> 4\u001b[0m     sentence \u001b[39m=\u001b[39m convert_to_sentence(topic_words)\n\u001b[0;32m      5\u001b[0m     \u001b[39mprint\u001b[39m(sentence)\n",
      "Cell \u001b[1;32mIn[9], line 2\u001b[0m, in \u001b[0;36mconvert_to_sentence\u001b[1;34m(topic)\u001b[0m\n\u001b[0;32m      1\u001b[0m \u001b[39mdef\u001b[39;00m \u001b[39mconvert_to_sentence\u001b[39m(topic):\n\u001b[1;32m----> 2\u001b[0m     topic_words \u001b[39m=\u001b[39m [word \u001b[39mfor\u001b[39;49;00m word, _ \u001b[39min\u001b[39;49;00m topic]\n\u001b[0;32m      3\u001b[0m     \u001b[39mreturn\u001b[39;00m \u001b[39m'\u001b[39m\u001b[39m, \u001b[39m\u001b[39m'\u001b[39m\u001b[39m.\u001b[39mjoin(topic_words)\n",
      "Cell \u001b[1;32mIn[9], line 2\u001b[0m, in \u001b[0;36m<listcomp>\u001b[1;34m(.0)\u001b[0m\n\u001b[0;32m      1\u001b[0m \u001b[39mdef\u001b[39;00m \u001b[39mconvert_to_sentence\u001b[39m(topic):\n\u001b[1;32m----> 2\u001b[0m     topic_words \u001b[39m=\u001b[39m [word \u001b[39mfor\u001b[39;00m word, _ \u001b[39min\u001b[39;00m topic]\n\u001b[0;32m      3\u001b[0m     \u001b[39mreturn\u001b[39;00m \u001b[39m'\u001b[39m\u001b[39m, \u001b[39m\u001b[39m'\u001b[39m\u001b[39m.\u001b[39mjoin(topic_words)\n",
      "\u001b[1;31mValueError\u001b[0m: not enough values to unpack (expected 2, got 1)"
     ]
    }
   ],
   "source": [
    "print(\"HDP Topics:\")\n",
    "for topic in hdp_topics:\n",
    "    topic_words = topic[1]\n",
    "    sentence = convert_to_sentence(topic_words)\n",
    "    print(sentence)"
   ]
  },
  {
   "cell_type": "code",
   "execution_count": 12,
   "metadata": {},
   "outputs": [
    {
     "name": "stdout",
     "output_type": "stream",
     "text": [
      "\n",
      "LDA Topics:\n"
     ]
    },
    {
     "ename": "ValueError",
     "evalue": "not enough values to unpack (expected 2, got 1)",
     "output_type": "error",
     "traceback": [
      "\u001b[1;31m---------------------------------------------------------------------------\u001b[0m",
      "\u001b[1;31mValueError\u001b[0m                                Traceback (most recent call last)",
      "Cell \u001b[1;32mIn[12], line 3\u001b[0m\n\u001b[0;32m      1\u001b[0m \u001b[39mprint\u001b[39m(\u001b[39m\"\u001b[39m\u001b[39m\\n\u001b[39;00m\u001b[39mLDA Topics:\u001b[39m\u001b[39m\"\u001b[39m)\n\u001b[0;32m      2\u001b[0m \u001b[39mfor\u001b[39;00m topic \u001b[39min\u001b[39;00m lda_topics:\n\u001b[1;32m----> 3\u001b[0m     sentence \u001b[39m=\u001b[39m convert_to_sentence(topic[\u001b[39m1\u001b[39;49m])\n\u001b[0;32m      4\u001b[0m     \u001b[39mprint\u001b[39m(sentence)\n",
      "Cell \u001b[1;32mIn[9], line 2\u001b[0m, in \u001b[0;36mconvert_to_sentence\u001b[1;34m(topic)\u001b[0m\n\u001b[0;32m      1\u001b[0m \u001b[39mdef\u001b[39;00m \u001b[39mconvert_to_sentence\u001b[39m(topic):\n\u001b[1;32m----> 2\u001b[0m     topic_words \u001b[39m=\u001b[39m [word \u001b[39mfor\u001b[39;49;00m word, _ \u001b[39min\u001b[39;49;00m topic]\n\u001b[0;32m      3\u001b[0m     \u001b[39mreturn\u001b[39;00m \u001b[39m'\u001b[39m\u001b[39m, \u001b[39m\u001b[39m'\u001b[39m\u001b[39m.\u001b[39mjoin(topic_words)\n",
      "Cell \u001b[1;32mIn[9], line 2\u001b[0m, in \u001b[0;36m<listcomp>\u001b[1;34m(.0)\u001b[0m\n\u001b[0;32m      1\u001b[0m \u001b[39mdef\u001b[39;00m \u001b[39mconvert_to_sentence\u001b[39m(topic):\n\u001b[1;32m----> 2\u001b[0m     topic_words \u001b[39m=\u001b[39m [word \u001b[39mfor\u001b[39;00m word, _ \u001b[39min\u001b[39;00m topic]\n\u001b[0;32m      3\u001b[0m     \u001b[39mreturn\u001b[39;00m \u001b[39m'\u001b[39m\u001b[39m, \u001b[39m\u001b[39m'\u001b[39m\u001b[39m.\u001b[39mjoin(topic_words)\n",
      "\u001b[1;31mValueError\u001b[0m: not enough values to unpack (expected 2, got 1)"
     ]
    }
   ],
   "source": [
    "print(\"\\nLDA Topics:\")\n",
    "for topic in lda_topics:\n",
    "    sentence = convert_to_sentence(topic[1])\n",
    "    print(sentence)"
   ]
  }
 ],
 "metadata": {
  "kernelspec": {
   "display_name": "Python 3",
   "language": "python",
   "name": "python3"
  },
  "language_info": {
   "codemirror_mode": {
    "name": "ipython",
    "version": 3
   },
   "file_extension": ".py",
   "mimetype": "text/x-python",
   "name": "python",
   "nbconvert_exporter": "python",
   "pygments_lexer": "ipython3",
   "version": "3.11.1"
  },
  "orig_nbformat": 4
 },
 "nbformat": 4,
 "nbformat_minor": 2
}
