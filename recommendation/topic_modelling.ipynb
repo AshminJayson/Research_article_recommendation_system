{
 "cells": [
  {
   "cell_type": "code",
   "execution_count": 34,
   "metadata": {},
   "outputs": [],
   "source": [
    "from gensim.models import HdpModel, LdaModel\n",
    "from gensim.corpora import Dictionary\n",
    "import re\n",
    "import nltk\n",
    "from nltk.corpus import stopwords\n",
    "from nltk.tokenize import word_tokenize"
   ]
  },
  {
   "cell_type": "code",
   "execution_count": 35,
   "metadata": {},
   "outputs": [],
   "source": [
    "paragraph = \"\"\" We discussed quantum deformations of D=4 Lorentz and Poincare algebras. In\n",
    "the case of Poincare algebra it is shown that almost all classical r-matrices\n",
    "of S. Zakrzewski classification correspond to twisted deformations of Abelian\n",
    "and Jordanian types. A part of twists corresponding to the r-matrices of\n",
    "Zakrzewski classification are given in explicit form.\n",
    "\"\"\""
   ]
  },
  {
   "cell_type": "code",
   "execution_count": 36,
   "metadata": {},
   "outputs": [],
   "source": [
    "tokenized_paragraph = paragraph.lower().split()"
   ]
  },
  {
   "cell_type": "code",
   "execution_count": 37,
   "metadata": {},
   "outputs": [],
   "source": [
    "dictionary = Dictionary([tokenized_paragraph])"
   ]
  },
  {
   "cell_type": "code",
   "execution_count": 38,
   "metadata": {},
   "outputs": [],
   "source": [
    "bow_corpus = [dictionary.doc2bow(tokenized_paragraph)]"
   ]
  },
  {
   "cell_type": "code",
   "execution_count": 39,
   "metadata": {},
   "outputs": [],
   "source": [
    "hdp_model = HdpModel(corpus=bow_corpus, id2word=dictionary)\n",
    "hdp_topics = hdp_model.show_topics()"
   ]
  },
  {
   "cell_type": "code",
   "execution_count": 40,
   "metadata": {},
   "outputs": [],
   "source": [
    "lda_model = LdaModel(corpus=bow_corpus, id2word=dictionary, num_topics=5)\n",
    "lda_topics = lda_model.show_topics()"
   ]
  },
  {
   "cell_type": "code",
   "execution_count": 41,
   "metadata": {},
   "outputs": [],
   "source": [
    "def remove_stop_words(text):\n",
    "    # Download the stop words if not already downloaded\n",
    "    # nltk.download('stopwords')\n",
    "    \n",
    "    # Get the list of stop words\n",
    "    stop_words = set(stopwords.words('english'))\n",
    "    \n",
    "    # Tokenize the input text\n",
    "    tokens = word_tokenize(text)\n",
    "    \n",
    "    # Remove stop words from the tokenized text\n",
    "    filtered_tokens = [token for token in tokens if token.lower() not in stop_words]\n",
    "    \n",
    "    # Reconstruct the text without stop words\n",
    "    filtered_text = ' '.join(filtered_tokens)\n",
    "    \n",
    "    return filtered_text"
   ]
  },
  {
   "cell_type": "code",
   "execution_count": 42,
   "metadata": {},
   "outputs": [],
   "source": [
    "# def remove_numbers_dots_plus(string):\n",
    "#     pattern = r\"[0-9.+*,]\"\n",
    "#     cleaned_string = re.sub(pattern, \"\", string)\n",
    "#     cleaned_string = re.sub(r\"``\\s*''|''\\s*``\", \"\", cleaned_string)\n",
    "#     cleaned_string= remove_stop_words(cleaned_string)\n",
    "#     return cleaned_string"
   ]
  },
  {
   "cell_type": "code",
   "execution_count": 43,
   "metadata": {},
   "outputs": [],
   "source": [
    "def remove_numbers_dots_plus(string):\n",
    "    pattern = r\"[^a-zA-Z\\s]\"\n",
    "    cleaned_string = re.sub(pattern, \"\", string)\n",
    "    cleaned_string = remove_stop_words(cleaned_string)\n",
    "    return cleaned_string"
   ]
  },
  {
   "cell_type": "code",
   "execution_count": 44,
   "metadata": {},
   "outputs": [
    {
     "name": "stdout",
     "output_type": "stream",
     "text": [
      "HDP Topics:\n",
      "form lorentz quantum part poincare zakrzewski algebras shown classification twisted deformations\n",
      "quantum part shown algebra corresponding case classical poincare zakrzewski abelian classification form\n",
      "form abelian rmatrices correspond jordanian twisted part algebras given zakrzewski almost case classical deformations\n",
      "shown poincare twisted part types twists form quantum corresponding explicit correspond classical case classification\n",
      "abelian deformations zakrzewski shown part correspond algebras given jordanian case twists\n"
     ]
    }
   ],
   "source": [
    "print(\"HDP Topics:\")\n",
    "for val, topic in enumerate(hdp_topics):\n",
    "    topic_words = topic[1]\n",
    "    sentence= remove_numbers_dots_plus(topic_words)\n",
    "    print(sentence)\n",
    "    if val==4:\n",
    "        break"
   ]
  },
  {
   "cell_type": "code",
   "execution_count": 45,
   "metadata": {},
   "outputs": [
    {
     "name": "stdout",
     "output_type": "stream",
     "text": [
      "LDA Topics:\n",
      "rmatrices classification zakrzewski poincare deformations shown\n",
      "deformations classification rmatrices zakrzewski poincare\n",
      "poincare deformations zakrzewski classification rmatrices\n",
      "classification zakrzewski poincare deformations rmatrices\n",
      "poincare zakrzewski classification part rmatrices corresponding\n"
     ]
    }
   ],
   "source": [
    "print(\"LDA Topics:\")\n",
    "for topic in lda_topics:\n",
    "    topic_words = topic[1]\n",
    "    sentence= remove_numbers_dots_plus(topic_words)\n",
    "    print(sentence)"
   ]
  }
 ],
 "metadata": {
  "kernelspec": {
   "display_name": "Python 3",
   "language": "python",
   "name": "python3"
  },
  "language_info": {
   "codemirror_mode": {
    "name": "ipython",
    "version": 3
   },
   "file_extension": ".py",
   "mimetype": "text/x-python",
   "name": "python",
   "nbconvert_exporter": "python",
   "pygments_lexer": "ipython3",
   "version": "3.11.1"
  },
  "orig_nbformat": 4
 },
 "nbformat": 4,
 "nbformat_minor": 2
}
