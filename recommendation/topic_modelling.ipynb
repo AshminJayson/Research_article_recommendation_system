{
 "cells": [
  {
   "cell_type": "code",
   "execution_count": 58,
   "metadata": {},
   "outputs": [],
   "source": [
    "from gensim.models import HdpModel, LdaModel\n",
    "from gensim.corpora import Dictionary\n",
    "import re\n",
    "import nltk\n",
    "from nltk.corpus import stopwords\n",
    "from nltk.tokenize import word_tokenize"
   ]
  },
  {
   "cell_type": "code",
   "execution_count": 59,
   "metadata": {},
   "outputs": [],
   "source": [
    "paragraph = \"\"\" We discussed quantum deformations of D=4 Lorentz and Poincare algebras. In\n",
    "the case of Poincare algebra it is shown that almost all classical r-matrices\n",
    "of S. Zakrzewski classification correspond to twisted deformations of Abelian\n",
    "and Jordanian types. A part of twists corresponding to the r-matrices of\n",
    "Zakrzewski classification are given in explicit form.\n",
    "\"\"\""
   ]
  },
  {
   "cell_type": "code",
   "execution_count": 60,
   "metadata": {},
   "outputs": [],
   "source": [
    "tokenized_paragraph = paragraph.lower().split()"
   ]
  },
  {
   "cell_type": "code",
   "execution_count": 61,
   "metadata": {},
   "outputs": [],
   "source": [
    "dictionary = Dictionary([tokenized_paragraph])"
   ]
  },
  {
   "cell_type": "code",
   "execution_count": 62,
   "metadata": {},
   "outputs": [],
   "source": [
    "bow_corpus = [dictionary.doc2bow(tokenized_paragraph)]"
   ]
  },
  {
   "cell_type": "code",
   "execution_count": 63,
   "metadata": {},
   "outputs": [],
   "source": [
    "hdp_model = HdpModel(corpus=bow_corpus, id2word=dictionary)\n",
    "hdp_topics = hdp_model.show_topics()"
   ]
  },
  {
   "cell_type": "code",
   "execution_count": 64,
   "metadata": {},
   "outputs": [],
   "source": [
    "lda_model = LdaModel(corpus=bow_corpus, id2word=dictionary, num_topics=5)\n",
    "lda_topics = lda_model.show_topics()"
   ]
  },
  {
   "cell_type": "code",
   "execution_count": 65,
   "metadata": {},
   "outputs": [],
   "source": [
    "def remove_stop_words(text):\n",
    "    # Download the stop words if not already downloaded\n",
    "    # nltk.download('stopwords')\n",
    "    \n",
    "    # Get the list of stop words\n",
    "    stop_words = set(stopwords.words('english'))\n",
    "    \n",
    "    # Tokenize the input text\n",
    "    tokens = word_tokenize(text)\n",
    "    \n",
    "    # Remove stop words from the tokenized text\n",
    "    filtered_tokens = [token for token in tokens if token.lower() not in stop_words]\n",
    "    \n",
    "    # Reconstruct the text without stop words\n",
    "    filtered_text = ' '.join(filtered_tokens)\n",
    "    \n",
    "    return filtered_text"
   ]
  },
  {
   "cell_type": "code",
   "execution_count": 66,
   "metadata": {},
   "outputs": [],
   "source": [
    "def remove_numbers_dots_plus(string):\n",
    "    pattern = r\"[0-9.+*,]\"\n",
    "    cleaned_string = re.sub(pattern, \"\", string)\n",
    "    cleaned_string= remove_stop_words(cleaned_string)\n",
    "    return cleaned_string"
   ]
  },
  {
   "cell_type": "code",
   "execution_count": 67,
   "metadata": {},
   "outputs": [
    {
     "name": "stdout",
     "output_type": "stream",
     "text": [
      "HDP Topics:\n",
      "classification corresponding almost r-matrices lorentz poincare correspond d= twisted part form quantum explicit\n",
      "types deformations algebras jordanian given case twists explicit abelian zakrzewski part algebra shown\n",
      "discussed part corresponding r-matrices poincare lorentz classical given deformations types abelian zakrzewski\n",
      "almost quantum given algebras correspond zakrzewski deformations r-matrices part case twisted\n",
      "poincare zakrzewski jordanian classification types given corresponding deformations twisted r-matrices case shown d=\n"
     ]
    }
   ],
   "source": [
    "print(\"HDP Topics:\")\n",
    "for val, topic in enumerate(hdp_topics):\n",
    "    topic_words = topic[1]\n",
    "    sentence= remove_numbers_dots_plus(topic_words)\n",
    "    print(sentence)\n",
    "    if val==4:\n",
    "        break"
   ]
  },
  {
   "cell_type": "code",
   "execution_count": 68,
   "metadata": {},
   "outputs": [
    {
     "name": "stdout",
     "output_type": "stream",
     "text": [
      "LDA Topics:\n",
      "`` '' `` classification '' `` '' `` '' `` zakrzewski '' `` poincare '' `` '' `` r-matrices '' `` '' `` deformations ''\n",
      "`` '' `` zakrzewski '' `` '' `` deformations '' `` r-matrices '' `` '' `` poincare '' `` '' `` classification '' `` ''\n",
      "`` '' `` '' `` deformations '' `` '' `` poincare '' `` r-matrices '' `` '' `` '' `` classification '' `` zakrzewski ''\n",
      "`` '' `` deformations '' `` zakrzewski '' `` r-matrices '' `` classification '' `` '' `` '' `` '' `` poincare '' `` ''\n",
      "`` '' `` '' `` poincare '' `` '' `` r-matrices '' `` '' `` deformations '' `` '' `` classification '' `` zakrzewski ''\n"
     ]
    }
   ],
   "source": [
    "print(\"LDA Topics:\")\n",
    "for topic in lda_topics:\n",
    "    topic_words = topic[1]\n",
    "    sentence= remove_numbers_dots_plus(topic_words)\n",
    "    print(sentence)"
   ]
  }
 ],
 "metadata": {
  "kernelspec": {
   "display_name": "Python 3",
   "language": "python",
   "name": "python3"
  },
  "language_info": {
   "codemirror_mode": {
    "name": "ipython",
    "version": 3
   },
   "file_extension": ".py",
   "mimetype": "text/x-python",
   "name": "python",
   "nbconvert_exporter": "python",
   "pygments_lexer": "ipython3",
   "version": "3.11.1"
  },
  "orig_nbformat": 4
 },
 "nbformat": 4,
 "nbformat_minor": 2
}
